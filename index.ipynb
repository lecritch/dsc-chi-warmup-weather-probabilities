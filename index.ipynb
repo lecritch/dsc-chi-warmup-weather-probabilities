{
 "cells": [
  {
   "cell_type": "markdown",
   "metadata": {},
   "source": [
    "# Probability of weather in two cities\n",
    "<img src=\"https://i.ytimg.com/vi/6MGRkUlFZws/maxresdefault.jpg\" alt=\"Weather cartoon\" width=\"500\"/>"
   ]
  },
  {
   "cell_type": "code",
   "execution_count": 1,
   "metadata": {
    "ExecuteTime": {
     "end_time": "2020-06-02T03:02:48.192911Z",
     "start_time": "2020-06-02T03:02:48.173916Z"
    }
   },
   "outputs": [
    {
     "data": {
      "text/html": [
       "<div>\n",
       "<style scoped>\n",
       "    .dataframe tbody tr th:only-of-type {\n",
       "        vertical-align: middle;\n",
       "    }\n",
       "\n",
       "    .dataframe tbody tr th {\n",
       "        vertical-align: top;\n",
       "    }\n",
       "\n",
       "    .dataframe thead th {\n",
       "        text-align: right;\n",
       "    }\n",
       "</style>\n",
       "<table border=\"1\" class=\"dataframe\">\n",
       "  <thead>\n",
       "    <tr style=\"text-align: right;\">\n",
       "      <th></th>\n",
       "      <th>Sunny</th>\n",
       "      <th>Cloudy</th>\n",
       "      <th>Rainy</th>\n",
       "    </tr>\n",
       "  </thead>\n",
       "  <tbody>\n",
       "    <tr>\n",
       "      <td>Sunny</td>\n",
       "      <td>6</td>\n",
       "      <td>2</td>\n",
       "      <td>0</td>\n",
       "    </tr>\n",
       "    <tr>\n",
       "      <td>Cloudy</td>\n",
       "      <td>1</td>\n",
       "      <td>5</td>\n",
       "      <td>2</td>\n",
       "    </tr>\n",
       "    <tr>\n",
       "      <td>Rainy</td>\n",
       "      <td>0</td>\n",
       "      <td>1</td>\n",
       "      <td>3</td>\n",
       "    </tr>\n",
       "  </tbody>\n",
       "</table>\n",
       "</div>"
      ],
      "text/plain": [
       "        Sunny  Cloudy  Rainy\n",
       "Sunny       6       2      0\n",
       "Cloudy      1       5      2\n",
       "Rainy       0       1      3"
      ]
     },
     "execution_count": 1,
     "metadata": {},
     "output_type": "execute_result"
    }
   ],
   "source": [
    "# Run this cell unchanged\n",
    "import pandas as pd\n",
    "\n",
    "from test_background import pkl_dump, test_obj_dict, run_test_dict, run_test\n",
    "\n",
    "data = [{'Sunny': 6, 'Cloudy': 2, 'Rainy': 0},\n",
    "       {'Sunny': 1, 'Cloudy': 5, 'Rainy': 2},\n",
    "       {'Sunny': 0, 'Cloudy': 1, 'Rainy': 3}]\n",
    "\n",
    "df = pd.DataFrame(data, index = ['Sunny', 'Cloudy', 'Rainy'])\n",
    "df.head()"
   ]
  },
  {
   "cell_type": "markdown",
   "metadata": {
    "ExecuteTime": {
     "end_time": "2020-06-02T02:54:12.530981Z",
     "start_time": "2020-06-02T02:54:12.523178Z"
    }
   },
   "source": [
    "**The above dataframe** represents the joint weather events for two neighboring cities over a time frame of 20 days. \n",
    "\n",
    "The index represents ```Town 1``` and the columns represent ```Town 2```\n",
    "\n",
    "The values represent the number of days the two weather events in each town occurred on the same day.\n",
    ">ie. There were 2 days out of 20 it was Sunny in ```Town 1``` and Cloudy in ```Town 2```"
   ]
  },
  {
   "cell_type": "markdown",
   "metadata": {},
   "source": [
    "## Question 1"
   ]
  },
  {
   "cell_type": "markdown",
   "metadata": {},
   "source": [
    "What is the probability of it being Sunny in both towns at the same time?\n",
    "\n",
    "$P(Town1=Sunny ∩ Town2=Sunny)$"
   ]
  },
  {
   "cell_type": "code",
   "execution_count": 2,
   "metadata": {
    "ExecuteTime": {
     "end_time": "2020-06-02T02:53:48.707213Z",
     "start_time": "2020-06-02T02:53:48.704373Z"
    }
   },
   "outputs": [
    {
     "data": {
      "text/plain": [
       "0.3"
      ]
     },
     "execution_count": 2,
     "metadata": {},
     "output_type": "execute_result"
    }
   ],
   "source": [
    "sunny_town1_sunny_town2 = 6/20\n",
    "sunny_town1_sunny_town2"
   ]
  },
  {
   "cell_type": "code",
   "execution_count": 3,
   "metadata": {},
   "outputs": [
    {
     "data": {
      "text/plain": [
       "'Hey, you did it.  Good job.'"
      ]
     },
     "execution_count": 3,
     "metadata": {},
     "output_type": "execute_result"
    }
   ],
   "source": [
    "#run this cell to check\n",
    "\n",
    "run_test(sunny_town1_sunny_town2, 'sunny_town1_sunny_town2')"
   ]
  },
  {
   "cell_type": "markdown",
   "metadata": {},
   "source": [
    "## Question 2\n",
    "\n",
    "What is the probability of it not being Rainy in ```Town1``` and Rainy in ```Town2```?\n",
    "\n",
    "$P(Town1 ∈ {Sunny ∪ Cloudy} ∩ Town2=Rainy)$"
   ]
  },
  {
   "cell_type": "code",
   "execution_count": 4,
   "metadata": {},
   "outputs": [],
   "source": [
    "#### not sure why it's 0/20 + 2/20\n",
    "\n",
    "no_rain_town1_rain_town2 = (16/20) * (5/20)"
   ]
  },
  {
   "cell_type": "code",
   "execution_count": 5,
   "metadata": {},
   "outputs": [
    {
     "data": {
      "text/plain": [
       "'Try again'"
      ]
     },
     "execution_count": 5,
     "metadata": {},
     "output_type": "execute_result"
    }
   ],
   "source": [
    "#run this cell to check\n",
    "\n",
    "run_test(no_rain_town1_rain_town2, 'no_rain_town1_rain_town2')"
   ]
  },
  {
   "cell_type": "markdown",
   "metadata": {},
   "source": [
    "## Question 3"
   ]
  },
  {
   "cell_type": "code",
   "execution_count": 6,
   "metadata": {},
   "outputs": [
    {
     "data": {
      "text/html": [
       "<div>\n",
       "<style scoped>\n",
       "    .dataframe tbody tr th:only-of-type {\n",
       "        vertical-align: middle;\n",
       "    }\n",
       "\n",
       "    .dataframe tbody tr th {\n",
       "        vertical-align: top;\n",
       "    }\n",
       "\n",
       "    .dataframe thead th {\n",
       "        text-align: right;\n",
       "    }\n",
       "</style>\n",
       "<table border=\"1\" class=\"dataframe\">\n",
       "  <thead>\n",
       "    <tr style=\"text-align: right;\">\n",
       "      <th></th>\n",
       "      <th>Sunny</th>\n",
       "      <th>Cloudy</th>\n",
       "      <th>Rainy</th>\n",
       "    </tr>\n",
       "  </thead>\n",
       "  <tbody>\n",
       "    <tr>\n",
       "      <td>Sunny</td>\n",
       "      <td>6</td>\n",
       "      <td>2</td>\n",
       "      <td>0</td>\n",
       "    </tr>\n",
       "    <tr>\n",
       "      <td>Cloudy</td>\n",
       "      <td>1</td>\n",
       "      <td>5</td>\n",
       "      <td>2</td>\n",
       "    </tr>\n",
       "    <tr>\n",
       "      <td>Rainy</td>\n",
       "      <td>0</td>\n",
       "      <td>1</td>\n",
       "      <td>3</td>\n",
       "    </tr>\n",
       "  </tbody>\n",
       "</table>\n",
       "</div>"
      ],
      "text/plain": [
       "        Sunny  Cloudy  Rainy\n",
       "Sunny       6       2      0\n",
       "Cloudy      1       5      2\n",
       "Rainy       0       1      3"
      ]
     },
     "execution_count": 6,
     "metadata": {},
     "output_type": "execute_result"
    }
   ],
   "source": [
    "df.head()"
   ]
  },
  {
   "cell_type": "markdown",
   "metadata": {},
   "source": [
    "What is the probability of it being Sunny in ```Town2``` <u>regardless of the weather</u> in ```Town1```?\n",
    "\n",
    "$$P(Town2=Sunny) =$$ \n",
    "$$P(Town2=Sunny ∩ Town1=Sunny) + $$\n",
    "$$P(Town2=Sunny ∩ Town1=Cloudy)+ $$\n",
    "$$P(Town2=Sunny ∩ Town1=Rainy)$$"
   ]
  },
  {
   "cell_type": "code",
   "execution_count": 7,
   "metadata": {},
   "outputs": [
    {
     "data": {
      "text/plain": [
       "0.35"
      ]
     },
     "execution_count": 7,
     "metadata": {},
     "output_type": "execute_result"
    }
   ],
   "source": [
    "sunny_town2 = 6/20 + 1/20 + 0/20\n",
    "sunny_town2"
   ]
  },
  {
   "cell_type": "code",
   "execution_count": 8,
   "metadata": {},
   "outputs": [
    {
     "data": {
      "text/plain": [
       "'Hey, you did it.  Good job.'"
      ]
     },
     "execution_count": 8,
     "metadata": {},
     "output_type": "execute_result"
    }
   ],
   "source": [
    "#run this cell to check\n",
    "\n",
    "run_test(sunny_town2, 'sunny_town2')"
   ]
  },
  {
   "cell_type": "markdown",
   "metadata": {},
   "source": [
    "## Question 4\n",
    "\n",
    "What is the probability  of it being Sunny in ```Town1``` given that it is Sunny in ```Town2```?\n",
    "\n",
    "$P(Town1=Sunny|Town2=Sunny) = \\displaystyle \\frac{P(Town1=Sunny∩Town2=Sunny)}{P(Town2=Sunny)}$"
   ]
  },
  {
   "cell_type": "code",
   "execution_count": 11,
   "metadata": {
    "ExecuteTime": {
     "end_time": "2020-06-02T02:40:17.073855Z",
     "start_time": "2020-06-02T02:40:17.066312Z"
    }
   },
   "outputs": [
    {
     "data": {
      "text/plain": [
       "0.8571428571428572"
      ]
     },
     "execution_count": 11,
     "metadata": {},
     "output_type": "execute_result"
    }
   ],
   "source": [
    "sunny_town1_given_sunny_town2 = (6/20)/(7/20)\n",
    "\n",
    "sunny_town1_given_sunny_town2"
   ]
  },
  {
   "cell_type": "code",
   "execution_count": 10,
   "metadata": {},
   "outputs": [
    {
     "data": {
      "text/plain": [
       "'Hey, you did it.  Good job.'"
      ]
     },
     "execution_count": 10,
     "metadata": {},
     "output_type": "execute_result"
    }
   ],
   "source": [
    "#run this cell to check\n",
    "\n",
    "run_test(sunny_town1_given_sunny_town2, 'sunny_town1_given_sunny_town2')"
   ]
  },
  {
   "cell_type": "markdown",
   "metadata": {
    "ExecuteTime": {
     "end_time": "2020-06-02T02:45:51.728741Z",
     "start_time": "2020-06-02T02:45:51.723087Z"
    }
   },
   "source": [
    "## Question 5\n",
    "\n",
    "What is the probability of it being Sunny in ```Town2``` given that it is Sunny in ```Town1```?\n",
    "\n",
    "$P(Town2=Sunny|Town1=Sunny) = \\displaystyle \\frac{P(Town2=Sunny∩Town1=Sunny)}{P(Town1=Sunny)}$"
   ]
  },
  {
   "cell_type": "code",
   "execution_count": 12,
   "metadata": {},
   "outputs": [
    {
     "data": {
      "text/plain": [
       "0.7499999999999999"
      ]
     },
     "execution_count": 12,
     "metadata": {},
     "output_type": "execute_result"
    }
   ],
   "source": [
    "# sunny_town1 = (6/20) / (8/20)\n",
    "sunny_town2_given_sunny_town1 = (6/20) / (8/20)\n",
    "sunny_town2_given_sunny_town1"
   ]
  },
  {
   "cell_type": "code",
   "execution_count": 13,
   "metadata": {},
   "outputs": [
    {
     "data": {
      "text/plain": [
       "'Hey, you did it.  Good job.'"
      ]
     },
     "execution_count": 13,
     "metadata": {},
     "output_type": "execute_result"
    }
   ],
   "source": [
    "#run this cell to check\n",
    "\n",
    "run_test(sunny_town2_given_sunny_town1, 'sunny_town2_given_sunny_town1')"
   ]
  },
  {
   "cell_type": "code",
   "execution_count": null,
   "metadata": {},
   "outputs": [],
   "source": []
  }
 ],
 "metadata": {
  "hide_input": false,
  "kernelspec": {
   "display_name": "Python 3",
   "language": "python",
   "name": "python3"
  },
  "language_info": {
   "codemirror_mode": {
    "name": "ipython",
    "version": 3
   },
   "file_extension": ".py",
   "mimetype": "text/x-python",
   "name": "python",
   "nbconvert_exporter": "python",
   "pygments_lexer": "ipython3",
   "version": "3.6.9"
  },
  "toc": {
   "base_numbering": 1,
   "nav_menu": {},
   "number_sections": false,
   "sideBar": true,
   "skip_h1_title": true,
   "title_cell": "Table of Contents",
   "title_sidebar": "Contents",
   "toc_cell": false,
   "toc_position": {},
   "toc_section_display": true,
   "toc_window_display": false
  },
  "varInspector": {
   "cols": {
    "lenName": 16,
    "lenType": 16,
    "lenVar": 40
   },
   "kernels_config": {
    "python": {
     "delete_cmd_postfix": "",
     "delete_cmd_prefix": "del ",
     "library": "var_list.py",
     "varRefreshCmd": "print(var_dic_list())"
    },
    "r": {
     "delete_cmd_postfix": ") ",
     "delete_cmd_prefix": "rm(",
     "library": "var_list.r",
     "varRefreshCmd": "cat(var_dic_list()) "
    }
   },
   "types_to_exclude": [
    "module",
    "function",
    "builtin_function_or_method",
    "instance",
    "_Feature"
   ],
   "window_display": false
  }
 },
 "nbformat": 4,
 "nbformat_minor": 4
}
